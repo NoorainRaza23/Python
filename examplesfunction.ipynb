{
 "cells": [
  {
   "cell_type": "markdown",
   "metadata": {},
   "source": [
    "## Temperature Converter"
   ]
  },
  {
   "cell_type": "code",
   "execution_count": null,
   "metadata": {},
   "outputs": [
    {
     "name": "stdout",
     "output_type": "stream",
     "text": [
      "77.0\n"
     ]
    }
   ],
   "source": [
    "def convert_temperature(temp, unit): # Function to convert temperature from one unit to another \n",
    "    if unit == \"C\" : # If the unit is Celsius   \n",
    "        return temp *9/5 + 32 # Convert to Fahrenheit\n",
    "\n",
    "    elif unit == \"F\" : # If the unit is Fahrenheit\n",
    "        return (temp-32)* 5/9  # Convert to Celsius\n",
    "\n",
    "    else : # If the unit is neither Celsius nor Fahrenheit\n",
    "        return None \n",
    "\n",
    "temp = int(input(\"Enter the temperature in Celsius or Fahrenheit: \")) # Input the temperature value\n",
    "unit = input(\"Enter the unit of temperature (C or F): \") # Input the unit of\n",
    "\n",
    "\n",
    "print(convert_temperature(temp, unit)) # Print the converted temperature\n",
    "\n"
   ]
  },
  {
   "cell_type": "code",
   "execution_count": 9,
   "metadata": {},
   "outputs": [
    {
     "name": "stdout",
     "output_type": "stream",
     "text": [
      "77.0 F\n"
     ]
    }
   ],
   "source": [
    "def convert_temperature(temp, unit): \n",
    "    if unit == \"C\":  # If the unit is Celsius   \n",
    "        fahrenheit = temp * 9/5 + 32  # Convert to Fahrenheit\n",
    "        return f\"{fahrenheit} F\"  # Return Fahrenheit with unit\n",
    "\n",
    "    elif unit == \"F\":  # If the unit is Fahrenheit\n",
    "        celsius = (temp - 32) * 5/9  # Convert to Celsius\n",
    "        return f\"{celsius} C\"  # Return Celsius with unit\n",
    "\n",
    "    else:  # If the unit is neither Celsius nor Fahrenheit\n",
    "        return None \n",
    "\n",
    "temp = int(input(\"Enter the temperature in Celsius or Fahrenheit: \"))  # Input the temperature value\n",
    "unit = input(\"Enter the unit of temperature (C or F): \")  # Input the unit of temperature\n",
    "\n",
    "print(convert_temperature(temp, unit))  # Print the converted temperature with unit"
   ]
  },
  {
   "cell_type": "markdown",
   "metadata": {},
   "source": [
    "## Password Strenght Checker"
   ]
  },
  {
   "cell_type": "code",
   "execution_count": null,
   "metadata": {},
   "outputs": [],
   "source": []
  }
 ],
 "metadata": {
  "kernelspec": {
   "display_name": "Python 3",
   "language": "python",
   "name": "python3"
  },
  "language_info": {
   "codemirror_mode": {
    "name": "ipython",
    "version": 3
   },
   "file_extension": ".py",
   "mimetype": "text/x-python",
   "name": "python",
   "nbconvert_exporter": "python",
   "pygments_lexer": "ipython3",
   "version": "3.12.0"
  }
 },
 "nbformat": 4,
 "nbformat_minor": 2
}
