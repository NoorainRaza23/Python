{
 "cells": [
  {
   "cell_type": "markdown",
   "metadata": {},
   "source": [
    "# 1.Temperature Converter\n",
    "# 2.Password Strenght Checker\n",
    "# 3. Calculating total cost in shopping cart \n",
    "# 4. Check if a string is a palindrome "
   ]
  },
  {
   "cell_type": "markdown",
   "metadata": {},
   "source": []
  },
  {
   "cell_type": "markdown",
   "metadata": {},
   "source": [
    "## 1.Temperature Converter"
   ]
  },
  {
   "cell_type": "code",
   "execution_count": null,
   "metadata": {},
   "outputs": [
    {
     "name": "stdout",
     "output_type": "stream",
     "text": [
      "77.0\n"
     ]
    }
   ],
   "source": [
    "def convert_temperature(temp, unit): # Function to convert temperature from one unit to another \n",
    "    if unit == \"C\" : # If the unit is Celsius   \n",
    "        return temp *9/5 + 32 # Convert to Fahrenheit\n",
    "\n",
    "    elif unit == \"F\" : # If the unit is Fahrenheit\n",
    "        return (temp-32)* 5/9  # Convert to Celsius\n",
    "\n",
    "    else : # If the unit is neither Celsius nor Fahrenheit\n",
    "        return None  \n",
    "\n",
    "temp = int(input(\"Enter the temperature in Celsius or Fahrenheit: \")) # Input the temperature value\n",
    "unit = input(\"Enter the unit of temperature (C or F): \") # Input the unit of\n",
    "\n",
    "\n",
    "print(convert_temperature(temp, unit)) # Print the converted temperature\n",
    "\n"
   ]
  },
  {
   "cell_type": "code",
   "execution_count": 9,
   "metadata": {},
   "outputs": [
    {
     "name": "stdout",
     "output_type": "stream",
     "text": [
      "77.0 F\n"
     ]
    }
   ],
   "source": [
    "def convert_temperature(temp, unit): \n",
    "    if unit == \"C\":  # If the unit is Celsius   \n",
    "        fahrenheit = temp * 9/5 + 32  # Convert to Fahrenheit\n",
    "        return f\"{fahrenheit} F\"  # Return Fahrenheit with unit\n",
    "\n",
    "    elif unit == \"F\":  # If the unit is Fahrenheit\n",
    "        celsius = (temp - 32) * 5/9  # Convert to Celsius\n",
    "        return f\"{celsius} C\"  # Return Celsius with unit\n",
    "\n",
    "    else:  # If the unit is neither Celsius nor Fahrenheit\n",
    "        return None \n",
    "\n",
    "temp = int(input(\"Enter the temperature in Celsius or Fahrenheit: \"))  # Input the temperature value\n",
    "unit = input(\"Enter the unit of temperature (C or F): \")  # Input the unit of temperature\n",
    "\n",
    "print(convert_temperature(temp, unit))  # Print the converted temperature with unit"
   ]
  },
  {
   "cell_type": "markdown",
   "metadata": {},
   "source": [
    "## 2.Password Strenght Checker"
   ]
  },
  {
   "cell_type": "code",
   "execution_count": null,
   "metadata": {},
   "outputs": [
    {
     "name": "stdout",
     "output_type": "stream",
     "text": [
      "True\n",
      "False\n"
     ]
    }
   ],
   "source": [
    "def is_yr_pw_strong(password): # Check if password is strong\n",
    "\n",
    "    if len(password) < 8 : # Check if password length is less than 8\n",
    "        return False\n",
    "    \n",
    "    if not any (char.isdigit() for char in password): # Check if password contains at least one digit\n",
    "        return False  \n",
    "    \n",
    "    if not any (char.islower() for char in password): # Check if password contains at least one lowercase letter\n",
    "        return False\n",
    "    \n",
    "    if not any (char.isupper() for char in password): # Check if password contains at least one uppercase letter\n",
    "        return False\n",
    "    \n",
    "    if not any (char in \"!@#$%^&*()_+-={}:<>?/\" for char in password): # Check if password contains at least one special character\n",
    "        return False\n",
    "    \n",
    "    return True  # If all checks pass, password is strong\n",
    "\n",
    "## calling the function with a password\n",
    "\n",
    "print(is_yr_pw_strong(\"P@ssw0rd\"))  # Output: True\n",
    "print(is_yr_pw_strong(\"password\"))  # Output: False"
   ]
  },
  {
   "cell_type": "code",
   "execution_count": 12,
   "metadata": {},
   "outputs": [
    {
     "name": "stdout",
     "output_type": "stream",
     "text": [
      " Password is strong.\n",
      "Password should have at least one digit.\n"
     ]
    }
   ],
   "source": [
    "def is_yr_pw_strong(password): # Check if password is strong\n",
    "\n",
    "    if len(password) < 8 : # Check if password length is less than 8\n",
    "        return F\"Password is too short. It should be at least 8 characters long.\"\n",
    "    \n",
    "    if not any (char.isdigit() for char in password): # Check if password contains at least one digit\n",
    "        return F\"Password should have at least one digit.\"\n",
    "    \n",
    "    if not any (char.islower() for char in password): # Check if password contains at least one lowercase letter\n",
    "        return f\"Password should have at least one lowercase letter.\"\n",
    "    \n",
    "    if not any (char.isupper() for char in password): # Check if password contains at least one uppercase letter\n",
    "        return F\"Password should have at least one uppercase letter.\"\n",
    "    \n",
    "    if not any (char in \"!@#$%^&*()_+-={}:<>?/\" for char in password): # Check if password contains at least one special character\n",
    "        return F\"Password should have at least one special character.\"\n",
    "    \n",
    "    return F\" Password is strong.\"\n",
    "\n",
    "## calling the function with a password\n",
    "\n",
    "print(is_yr_pw_strong(\"P@ssw0rd\"))  # Output: True\n",
    "print(is_yr_pw_strong(\"password\"))  # Output: False"
   ]
  },
  {
   "cell_type": "code",
   "execution_count": null,
   "metadata": {},
   "outputs": [
    {
     "name": "stdout",
     "output_type": "stream",
     "text": [
      "Password is not strong:\n",
      "Password should have at least one digit.\n",
      "Password should have at least one uppercase letter.\n",
      "Password should have at least one special character.\n"
     ]
    }
   ],
   "source": [
    "def is_yr_pw_strong(password):  \n",
    "    \"\"\"Check if password is strong\"\"\" \n",
    "\n",
    "    errors = [] # List to store errors\n",
    "\n",
    "    if len(password) < 8: # Check if password is at least 8 characters long\n",
    "        errors.append(\"Password is too short. It should be at least 8 characters long.\") # Add error message .append () method is used to add elements to a list in Python\n",
    "    \n",
    "    if not any(char.isdigit() for char in password): # Check if password contains at least one digit\n",
    "        errors.append(\"Password should have at least one digit.\")\n",
    "    \n",
    "    if not any(char.islower() for char in password): # Check if password contains at least one lowercase letter\n",
    "        errors.append(\"Password should have at least one lowercase letter.\")\n",
    "    \n",
    "    if not any(char.isupper() for char in password): # Check if password contains at least one uppercase letter\n",
    "        errors.append(\"Password should have at least one uppercase letter.\") \n",
    "    \n",
    "    if not any(char in \"!@#$%^&*()_+-={}:<>?/\" for char in password): # Check if password contains at least one special character\n",
    "        errors.append(\"Password should have at least one special character.\") \n",
    "\n",
    "    if errors: # Check if there are any errors\n",
    "        return \"Password is not strong:\\n\" + \"\\n\".join(errors)  #  is used to print all the errors in a single string \n",
    "                                                                # + is used to concatenate strings in Python \n",
    "                                                                # . is used to concatenate strings in Python , \n",
    "                                                                # why . join() is used here is because we want to print all the errors in a single string , \n",
    "                                                                # if we use + then it will print all the errors in different lines   \n",
    "                                                                # join() function is used to concatenate all the elements in a list into a single string\n",
    "    \n",
    "    return \"Password is strong.\" # Return a success message if there are no errors\n",
    "\n",
    "password = input(\"Enter your password: \") # Get the password from the user\n",
    "# Calling the function with different passwords\n",
    "print(is_yr_pw_strong(password)) # Print the result of the function\n",
    "\n",
    "# print(is_yr_pw_strong(\"password\"))  # Output: Multiple error messages\n",
    "# print(is_yr_pw_strong(\"P@ssw0rd\"))  # Output: Password is strong."
   ]
  },
  {
   "cell_type": "markdown",
   "metadata": {},
   "source": [
    "## 3. Calculating total cost in shopping cart "
   ]
  },
  {
   "cell_type": "code",
   "execution_count": 19,
   "metadata": {},
   "outputs": [
    {
     "name": "stdout",
     "output_type": "stream",
     "text": [
      "2699.9700000000003\n"
     ]
    }
   ],
   "source": [
    "def calculatin_cart_value(cart): # Function to calculate the total value of the cart\n",
    "\n",
    "    total_cost = 0  # Initialize the total value of the cart to 0\n",
    "    for item in cart: # Loop through each item in the cart\n",
    "        total_cost += item[\"price\"] * item[\"quantity\"] # Multiply the price by the quantity and add to the total cart value\n",
    "    return total_cost # Return the total value of the cart\n",
    "\n",
    "\n",
    "\n",
    "# cart data\n",
    "\n",
    "cart = [\n",
    "    {\"name\" : \"Apple Watch\", \"price\" : 399.99, \"quantity\" : 1 },\n",
    "    {\"name\" : \"iPhone\", \"price\" : 999.99, \"quantity\": 1},\n",
    "    {\"name\" : \"MacBook\", \"price\" : 1299.99, \"quantity\" : 1}\n",
    "     \n",
    "]\n",
    "\n",
    "# calling the function\n",
    "total_cost = calculatin_cart_value(cart)\n",
    "print (total_cost) "
   ]
  },
  {
   "cell_type": "markdown",
   "metadata": {},
   "source": [
    "## 4. Check if a string is a palindrome "
   ]
  },
  {
   "cell_type": "code",
   "execution_count": null,
   "metadata": {},
   "outputs": [
    {
     "name": "stdout",
     "output_type": "stream",
     "text": [
      "True\n"
     ]
    }
   ],
   "source": [
    "def is_palindrome(s): \n",
    "    \"\"\" Check if a string is a palindrome \"\"\"\n",
    "\n",
    "    s = s.lower().replace(\" \",\"\") # remove spaces and convert to lowercase\n",
    "    return s==s[:: -1]   #  s[:: -1] is the string in reverse order,\n",
    "                         #  ==s [:: -1] checks if the string is equal to its reverse,\n",
    "                         #  s.lower() is used to make the function case insensitive.\n",
    "\n",
    "print(is_palindrome(\"A man a plan a canal Panama\"))  # True\n"
   ]
  },
  {
   "cell_type": "code",
   "execution_count": null,
   "metadata": {},
   "outputs": [],
   "source": []
  }
 ],
 "metadata": {
  "kernelspec": {
   "display_name": "Python 3",
   "language": "python",
   "name": "python3"
  },
  "language_info": {
   "codemirror_mode": {
    "name": "ipython",
    "version": 3
   },
   "file_extension": ".py",
   "mimetype": "text/x-python",
   "name": "python",
   "nbconvert_exporter": "python",
   "pygments_lexer": "ipython3",
   "version": "3.12.0"
  }
 },
 "nbformat": 4,
 "nbformat_minor": 2
}
