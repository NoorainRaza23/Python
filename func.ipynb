{
 "cells": [
  {
   "cell_type": "code",
   "execution_count": 4,
   "metadata": {},
   "outputs": [
    {
     "name": "stdout",
     "output_type": "stream",
     "text": [
      "<class 'str'>\n"
     ]
    }
   ],
   "source": [
    "print (type(\"2\"))"
   ]
  },
  {
   "cell_type": "code",
   "execution_count": null,
   "metadata": {},
   "outputs": [],
   "source": []
  },
  {
   "cell_type": "code",
   "execution_count": null,
   "metadata": {},
   "outputs": [],
   "source": []
  },
  {
   "cell_type": "code",
   "execution_count": 6,
   "metadata": {},
   "outputs": [],
   "source": [
    "def even_or_odd(num):\n",
    "    if num%2==0:\n",
    "        print (\"The number is even\")\n",
    "    else:\n",
    "        print (\"The number is odd\")\n",
    "\n"
   ]
  },
  {
   "cell_type": "code",
   "execution_count": 8,
   "metadata": {},
   "outputs": [
    {
     "name": "stdout",
     "output_type": "stream",
     "text": [
      "The number is odd\n"
     ]
    }
   ],
   "source": [
    "even_or_odd(25)"
   ]
  },
  {
   "cell_type": "code",
   "execution_count": null,
   "metadata": {},
   "outputs": [],
   "source": [
    "# positional argument \n",
    "\n",
    "def print_detail(*args): # *args is a special syntax in python that allows us to pass a variable number of arguments to a function\n",
    "                            # *args is a positional argument also can be written *n00r or *raza\n",
    "    for val in args: # loop through each value in the args\n",
    "        print (f\"positional arguments are : {val}\") # f-string is used to print the arguments in a formatted way \n",
    "\n"
   ]
  },
  {
   "cell_type": "code",
   "execution_count": 10,
   "metadata": {},
   "outputs": [
    {
     "name": "stdout",
     "output_type": "stream",
     "text": [
      "positional arguments are : (1, 2, 3, 4, 'Noorain')\n"
     ]
    }
   ],
   "source": [
    "print_detail(1,2,3,4,\"Noorain\")"
   ]
  },
  {
   "cell_type": "code",
   "execution_count": 23,
   "metadata": {},
   "outputs": [],
   "source": [
    "# keyword argument \n",
    "def print_detail(**kwargs): # **kwargs is used to pass keyword arguments\n",
    "    for key,val in kwargs.items(): # .items() is used to get key-value pairs\n",
    "        print (f\"Keyword argument : {key} : {val}\") # f-string is used to format the string\n",
    "        \n",
    "\n"
   ]
  },
  {
   "cell_type": "code",
   "execution_count": 24,
   "metadata": {},
   "outputs": [
    {
     "name": "stdout",
     "output_type": "stream",
     "text": [
      "Keyword argument : name : John\n",
      "Keyword argument : age : 25\n",
      "Keyword argument : city : New York\n"
     ]
    }
   ],
   "source": [
    "print_detail(name=\"John\",age=25,city=\"New York\") # passing keyword arguments\n",
    "        "
   ]
  },
  {
   "cell_type": "code",
   "execution_count": null,
   "metadata": {},
   "outputs": [],
   "source": [
    "# positional and keyword arguments\n",
    "\n",
    "def print_details(*args, **kwargs): # *args for positional arguments, **kwargs for keyword arguments\n",
    "    for val in args: # loop through positional arguments\n",
    "        print(f\"positional arguments : {val}\") # print each positional argument\n",
    "    \n",
    "    for key,value in kwargs.items(): # loop through keyword arguments\n",
    "        print(f\"keyword arguments : {key} : {value}\") # print each keyword argument\n",
    "    "
   ]
  },
  {
   "cell_type": "code",
   "execution_count": null,
   "metadata": {},
   "outputs": [
    {
     "name": "stdout",
     "output_type": "stream",
     "text": [
      "positional arguments : 1\n",
      "positional arguments : 2\n",
      "positional arguments : 3\n",
      "positional arguments : 4\n",
      "positional arguments : noorain\n",
      "keyword arguments : name : Noorain\n",
      "keyword arguments : age : 24\n",
      "keyword arguments : gender : Male\n"
     ]
    }
   ],
   "source": [
    "print_details(1,2,3,4,\"noorain\",name=\"Noorain\", age=24, gender=\"Male\") \n"
   ]
  },
  {
   "cell_type": "code",
   "execution_count": null,
   "metadata": {},
   "outputs": [
    {
     "data": {
      "text/plain": [
       "(8, 6, 2, 4)"
      ]
     },
     "execution_count": 34,
     "metadata": {},
     "output_type": "execute_result"
    }
   ],
   "source": [
    "# return statement\n",
    "\n",
    "def multiply(a,b): \n",
    "    return a * b # return the product of a and b\n",
    "\n",
    "multiply(2,4)\n"
   ]
  },
  {
   "cell_type": "code",
   "execution_count": null,
   "metadata": {},
   "outputs": [
    {
     "data": {
      "text/plain": [
       "(8, 6, 2, 4)"
      ]
     },
     "execution_count": 35,
     "metadata": {},
     "output_type": "execute_result"
    }
   ],
   "source": [
    "# python return multiple value \n",
    "def multiply(a,b): \n",
    "    return a * b, a + b, a,b # returns three values\n",
    "\n",
    "multiply(2,4)\n"
   ]
  },
  {
   "cell_type": "code",
   "execution_count": null,
   "metadata": {},
   "outputs": [],
   "source": []
  }
 ],
 "metadata": {
  "kernelspec": {
   "display_name": "Python 3",
   "language": "python",
   "name": "python3"
  },
  "language_info": {
   "codemirror_mode": {
    "name": "ipython",
    "version": 3
   },
   "file_extension": ".py",
   "mimetype": "text/x-python",
   "name": "python",
   "nbconvert_exporter": "python",
   "pygments_lexer": "ipython3",
   "version": "3.12.0"
  }
 },
 "nbformat": 4,
 "nbformat_minor": 2
}
